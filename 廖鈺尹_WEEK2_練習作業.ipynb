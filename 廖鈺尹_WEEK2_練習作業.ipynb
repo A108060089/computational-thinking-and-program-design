{
  "nbformat": 4,
  "nbformat_minor": 0,
  "metadata": {
    "colab": {
      "name": "廖鈺尹-WEEK2-練習作業.ipynb",
      "provenance": [],
      "authorship_tag": "ABX9TyOICDXLc3Zjbshx+sBYXZ0G",
      "include_colab_link": true
    },
    "kernelspec": {
      "name": "python3",
      "display_name": "Python 3"
    }
  },
  "cells": [
    {
      "cell_type": "markdown",
      "metadata": {
        "id": "view-in-github",
        "colab_type": "text"
      },
      "source": [
        "<a href=\"https://colab.research.google.com/github/A108060089/computational-thinking-and-program-design/blob/main/%E5%BB%96%E9%88%BA%E5%B0%B9_WEEK2_%E7%B7%B4%E7%BF%92%E4%BD%9C%E6%A5%AD.ipynb\" target=\"_parent\"><img src=\"https://colab.research.google.com/assets/colab-badge.svg\" alt=\"Open In Colab\"/></a>"
      ]
    },
    {
      "cell_type": "code",
      "metadata": {
        "colab": {
          "base_uri": "https://localhost:8080/"
        },
        "id": "CnQm-EqTS-eh",
        "outputId": "5e07a7f3-779a-492e-d334-3ebcfd1b9cd0"
      },
      "source": [
        "print(1+1)"
      ],
      "execution_count": 2,
      "outputs": [
        {
          "output_type": "stream",
          "text": [
            "2\n"
          ],
          "name": "stdout"
        }
      ]
    },
    {
      "cell_type": "code",
      "metadata": {
        "colab": {
          "base_uri": "https://localhost:8080/"
        },
        "id": "oWmKDevRUNpw",
        "outputId": "fd66e0bd-37a9-45a9-af57-a060c4fadc62"
      },
      "source": [
        "print(\"你好啊旅行者\")"
      ],
      "execution_count": 3,
      "outputs": [
        {
          "output_type": "stream",
          "text": [
            "你好啊旅行者\n"
          ],
          "name": "stdout"
        }
      ]
    }
  ]
}